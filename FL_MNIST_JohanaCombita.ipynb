{
 "cells": [
  {
   "cell_type": "markdown",
   "id": "53b22557",
   "metadata": {},
   "source": [
    "# EXERCICE: FEDERATED LEARNING APPLIED TO THE MNIST DATASET\n",
    "## Safety, Privacy and Legal Aspects\n",
    "#### Name: .Johana Cómbita Niño.."
   ]
  },
  {
   "cell_type": "code",
   "execution_count": 1,
   "id": "1ff647c5",
   "metadata": {},
   "outputs": [],
   "source": [
    "import numpy as np\n",
    "import tensorflow as tf\n",
    "import keras\n",
    "\n",
    "from keras.datasets import mnist\n",
    "from tensorflow import keras\n",
    "from keras.utils import to_categorical\n",
    "import matplotlib.pyplot as plt\n",
    "from tensorflow.keras.models import Sequential\n",
    "from tensorflow.keras.layers import Conv2D, MaxPooling2D, Flatten, Dense\n",
    "from tensorflow.keras.models import load_model"
   ]
  },
  {
   "cell_type": "markdown",
   "id": "527aeb43",
   "metadata": {},
   "source": [
    "Primero se carga el conjunto de datos MNIST, se preparan los datos y se visualizan para explorar el dataset."
   ]
  },
  {
   "cell_type": "code",
   "execution_count": 2,
   "id": "3e02323a",
   "metadata": {},
   "outputs": [
    {
     "data": {
      "text/plain": [
       "(60000, 28, 28)"
      ]
     },
     "execution_count": 2,
     "metadata": {},
     "output_type": "execute_result"
    }
   ],
   "source": [
    "# Read the MNIST data and process it. You can use reshape form numpy and to_categorical from \n",
    "# tensorflow.keras.utils\n",
    "(x_train, y_train), (x_test, y_test) = keras.datasets.mnist.load_data()\n",
    "np.shape(x_train)"
   ]
  },
  {
   "cell_type": "code",
   "execution_count": 3,
   "id": "091d75d3",
   "metadata": {},
   "outputs": [
    {
     "data": {
      "text/plain": [
       "(60000, 28, 28, 1)"
      ]
     },
     "execution_count": 3,
     "metadata": {},
     "output_type": "execute_result"
    }
   ],
   "source": [
    "# reshape the data\n",
    "# Normalizar las imágenes al rango [0,1]\n",
    "x_train = x_train.astype(\"float32\") / 255.0\n",
    "x_test = x_test.astype(\"float32\") / 255.0\n",
    "\n",
    "x_train = x_train.reshape((x_train.shape[0], 28, 28, 1))\n",
    "x_test = x_test.reshape(x_test.shape[0], 28, 28, 1)\n",
    "np.shape(x_train)"
   ]
  },
  {
   "cell_type": "code",
   "execution_count": 4,
   "id": "6eb57c2a",
   "metadata": {},
   "outputs": [
    {
     "data": {
      "text/plain": [
       "array([[0., 0., 0., 0., 0., 1., 0., 0., 0., 0.],\n",
       "       [1., 0., 0., 0., 0., 0., 0., 0., 0., 0.],\n",
       "       [0., 0., 0., 0., 1., 0., 0., 0., 0., 0.],\n",
       "       [0., 1., 0., 0., 0., 0., 0., 0., 0., 0.],\n",
       "       [0., 0., 0., 0., 0., 0., 0., 0., 0., 1.]], dtype=float32)"
      ]
     },
     "execution_count": 4,
     "metadata": {},
     "output_type": "execute_result"
    }
   ],
   "source": [
    "# one hot encoding\n",
    "y_train = to_categorical(y_train, 10)\n",
    "y_test = to_categorical(y_test, 10)\n",
    "\n",
    "y_train [0:5,:]"
   ]
  },
  {
   "cell_type": "code",
   "execution_count": 5,
   "id": "f5c46359",
   "metadata": {},
   "outputs": [
    {
     "name": "stderr",
     "output_type": "stream",
     "text": [
      "c:\\Users\\Johana Combita\\.conda\\envs\\tensorflow\\lib\\site-packages\\matplotlib\\text.py:1279: FutureWarning: elementwise comparison failed; returning scalar instead, but in the future will perform elementwise comparison\n",
      "  if s != self._text:\n"
     ]
    },
    {
     "data": {
      "image/png": "[encoded data removed]",
      "text/plain": [
       "<Figure size 640x480 with 1 Axes>"
      ]
     },
     "metadata": {},
     "output_type": "display_data"
    }
   ],
   "source": [
    "# To familiarize yourself with the data, you can display some of the images and their corresponding labels,\n",
    "# and view their dimensions\n",
    "\n",
    "plt.imshow(x_train[0].reshape(28,28), cmap='gray')\n",
    "plt.title(y_train[0])\n",
    "plt.show()"
   ]
  },
  {
   "cell_type": "code",
   "execution_count": 6,
   "id": "793384e9",
   "metadata": {},
   "outputs": [
    {
     "data": {
      "image/png": "[encoded data removed]",
      "text/plain": [
       "<Figure size 1000x200 with 5 Axes>"
      ]
     },
     "metadata": {},
     "output_type": "display_data"
    },
    {
     "name": "stdout",
     "output_type": "stream",
     "text": [
      "X_train shape: (60000, 28, 28, 1)\n",
      "y_train shape: (60000, 10)\n",
      "X_test shape: (10000, 28, 28, 1)\n",
      "y_test shape: (10000, 10)\n"
     ]
    }
   ],
   "source": [
    "#imagenes con sus etiquetas\n",
    "num_images = 5 \n",
    "plt.figure(figsize=(10, 2))\n",
    "for i in range(num_images):\n",
    "    plt.subplot(1, num_images, i + 1)\n",
    "    plt.imshow(x_train[i].reshape(28, 28), cmap=\"gray\")\n",
    "    plt.title(f\"Label: {np.argmax(y_train[i])}\")\n",
    "    plt.axis(\"off\")\n",
    "\n",
    "plt.show()\n",
    "\n",
    "# Ver las dimensiones de los datos\n",
    "print(f\"X_train shape: {x_train.shape}\")\n",
    "print(f\"y_train shape: {y_train.shape}\")\n",
    "print(f\"X_test shape: {x_test.shape}\")\n",
    "print(f\"y_test shape: {y_test.shape}\")"
   ]
  },
  {
   "cell_type": "markdown",
   "id": "aff9970a",
   "metadata": {},
   "source": [
    "Se crean 3 clientes a partir de los datos de Train con diferente cantidad de datos para cada uno."
   ]
  },
  {
   "cell_type": "code",
   "execution_count": 7,
   "id": "3e4599e8",
   "metadata": {},
   "outputs": [
    {
     "name": "stdout",
     "output_type": "stream",
     "text": [
      "30000 18000 12000\n"
     ]
    }
   ],
   "source": [
    "# Create 3 clients from the train data with different amount of data. \n",
    "# You can do it as you prefer, either using slices (e.g. client1_x = X_train[:len(X_train)//3]), \n",
    "# creating a function that makes it automatic according to the number of clients desired \n",
    "# (remember that two different clients cannot have data in common), or any other way you can think of.\n",
    "#Nota: tamaño de los clientes no puede ser el mismo, porque mas adelante hare una media ponderada\n",
    "\n",
    "# Definir proporciones diferentes para cada cliente\n",
    "P_client1 = 0.5\n",
    "P_client2 = 0.3\n",
    "P_client3 = 1 - P_client1 - P_client2\n",
    "total_samples = x_train.shape[0]\n",
    "client1_size = int(P_client1 * total_samples)  \n",
    "client2_size = int(P_client2 * total_samples)\n",
    "client3_size = int(P_client3 * total_samples)\n",
    "\n",
    "print(client1_size, client2_size, client3_size)"
   ]
  },
  {
   "cell_type": "code",
   "execution_count": 8,
   "id": "1a52234d",
   "metadata": {},
   "outputs": [
    {
     "name": "stdout",
     "output_type": "stream",
     "text": [
      "Cliente 1: (30000, 28, 28, 1), (30000, 10)\n",
      "Cliente 2: (18000, 28, 28, 1), (18000, 10)\n",
      "Cliente 3: (12000, 28, 28, 1), (12000, 10)\n"
     ]
    }
   ],
   "source": [
    "# Asignar los datos a cada cliente\n",
    "client1_x, client1_y = x_train[:client1_size], y_train[:client1_size]\n",
    "client2_x, client2_y = x_train[client1_size:client1_size + client2_size], y_train[client1_size:client1_size + client2_size]\n",
    "client3_x, client3_y = x_train[client1_size + client2_size:], y_train[client1_size + client2_size:]\n",
    "\n",
    "#dimensiones de los subconjuntos\n",
    "print(f\"Cliente 1: {client1_x.shape}, {client1_y.shape}\")\n",
    "print(f\"Cliente 2: {client2_x.shape}, {client2_y.shape}\")\n",
    "print(f\"Cliente 3: {client3_x.shape}, {client3_y.shape}\")\n"
   ]
  },
  {
   "cell_type": "code",
   "execution_count": 9,
   "id": "5656e911",
   "metadata": {},
   "outputs": [
    {
     "name": "stdout",
     "output_type": "stream",
     "text": [
      "Number of data for each client: \n",
      " \t Client 1: 30000\n",
      "     \t Client 2: 18000 \n",
      " \t Client 3: 12000\n"
     ]
    }
   ],
   "source": [
    "print(f'''Number of data for each client: \\n \\t Client 1: {len(client1_x)}\n",
    "     \\t Client 2: {len(client2_x)} \\n \\t Client 3: {len(client3_x)}''')"
   ]
  },
  {
   "cell_type": "code",
   "execution_count": 11,
   "id": "1936ae30",
   "metadata": {},
   "outputs": [],
   "source": [
    "# Check that the clients have been created correctly (that there is the same number of data in X_train as adding\n",
    "# up all clients)\n",
    "assert sum([len(client1_x), len(client2_x), len(client3_x)]) == len(x_train), 'Clients have not been created correctly'"
   ]
  },
  {
   "cell_type": "markdown",
   "id": "5a834874",
   "metadata": {},
   "source": [
    "Luego se crea el modelo de red neuronal."
   ]
  },
  {
   "cell_type": "code",
   "execution_count": 12,
   "id": "f56a3010",
   "metadata": {},
   "outputs": [
    {
     "name": "stdout",
     "output_type": "stream",
     "text": [
      "Model: \"sequential\"\n",
      "_________________________________________________________________\n",
      " Layer (type)                Output Shape              Param #   \n",
      "=================================================================\n",
      " conv2d (Conv2D)             (None, 26, 26, 32)        320       \n",
      "                                                                 \n",
      " max_pooling2d (MaxPooling2  (None, 13, 13, 32)        0         \n",
      " D)                                                              \n",
      "                                                                 \n",
      " conv2d_1 (Conv2D)           (None, 11, 11, 64)        18496     \n",
      "                                                                 \n",
      " max_pooling2d_1 (MaxPoolin  (None, 5, 5, 64)          0         \n",
      " g2D)                                                            \n",
      "                                                                 \n",
      " flatten (Flatten)           (None, 1600)              0         \n",
      "                                                                 \n",
      " dense (Dense)               (None, 128)               204928    \n",
      "                                                                 \n",
      " dense_1 (Dense)             (None, 10)                1290      \n",
      "                                                                 \n",
      "=================================================================\n",
      "Total params: 225034 (879.04 KB)\n",
      "Trainable params: 225034 (879.04 KB)\n",
      "Non-trainable params: 0 (0.00 Byte)\n",
      "_________________________________________________________________\n"
     ]
    }
   ],
   "source": [
    "# Crear el modelo\n",
    "model = Sequential()\n",
    "\n",
    "# Primera capa convolucional \n",
    "model.add(Conv2D(32, (3,3), activation='relu', input_shape=(28,28,1)))\n",
    "model.add(MaxPooling2D(pool_size=(2,2)))  \n",
    "\n",
    "# Segunda capa convolucional \n",
    "model.add(Conv2D(64, (3,3), activation='relu'))\n",
    "model.add(MaxPooling2D(pool_size=(2,2)))\n",
    "\n",
    "# Aplanar la salida de las capas convolucionales\n",
    "model.add(Flatten())\n",
    "\n",
    "# Capa completamente conectada\n",
    "model.add(Dense(128, activation='relu'))\n",
    "\n",
    "# Capa de salida con 10 neuronas \n",
    "model.add(Dense(10, activation='softmax'))\n",
    "\n",
    "# Compilar el modelo\n",
    "model.compile(loss='categorical_crossentropy',\n",
    "              optimizer='rmsprop',\n",
    "              metrics=['accuracy'])\n",
    "\n",
    "# Mostrar la estructura del modelo\n",
    "model.summary()"
   ]
  },
  {
   "cell_type": "markdown",
   "id": "72176942",
   "metadata": {},
   "source": [
    "Con el modelo listo y antes de hacer el entrenamiento con cada cliente, es necesario guardar los pesos iniciales del modelo, los cuales representan el estado inicial del modelo antes de ser entrenado con los datos de los clientes. Luego se continua con el entrenamiento por cada cliente 3 veces (entrenamiento federado). En cada ronda, los 3 clientes entrenan el modelo independientemente, y sus pesos se agregan al modelo teniendo en cuenta el promedio ponderado. Luego el modelo actualizado se usa en la siguiente ronda. Al final de las 3 rondas, se tiene un modelo que ha aprendido a partir de los datos de todos los clientes de manera federada."
   ]
  },
  {
   "cell_type": "code",
   "execution_count": 13,
   "id": "9947e3c9",
   "metadata": {},
   "outputs": [],
   "source": [
    "# Get the initial weights:\n",
    "# Obtener los pesos iniciales del modelo\n",
    "i_weights = model.get_weights()\n",
    "\n",
    "#funcion para ponderar los pesos\n",
    "def weighted_average(w_list, sizes):\n",
    "    avg_weights = []\n",
    "    \n",
    "    # Promediar los pesos\n",
    "    for w in zip(*w_list): \n",
    "        weighted = np.average(w, axis=0, weights=sizes)\n",
    "        avg_weights.append(weighted)\n",
    "    \n",
    "    return avg_weights"
   ]
  },
  {
   "cell_type": "code",
   "execution_count": 14,
   "id": "c4fbb2c4",
   "metadata": {},
   "outputs": [
    {
     "name": "stdout",
     "output_type": "stream",
     "text": [
      "Entrenamiento 1\n",
      "Epoch 1/5\n",
      "938/938 [==============================] - 20s 20ms/step - loss: 0.1821 - accuracy: 0.9430\n",
      "Epoch 2/5\n",
      "938/938 [==============================] - 24s 25ms/step - loss: 0.0553 - accuracy: 0.9830\n",
      "Epoch 3/5\n",
      "938/938 [==============================] - 22s 23ms/step - loss: 0.0360 - accuracy: 0.9881\n",
      "Epoch 4/5\n",
      "938/938 [==============================] - 19s 20ms/step - loss: 0.0263 - accuracy: 0.9917\n",
      "Epoch 5/5\n",
      "938/938 [==============================] - 18s 19ms/step - loss: 0.0187 - accuracy: 0.9944\n",
      "Epoch 1/5\n",
      "563/563 [==============================] - 11s 19ms/step - loss: 0.2591 - accuracy: 0.9184\n",
      "Epoch 2/5\n",
      "563/563 [==============================] - 11s 20ms/step - loss: 0.0787 - accuracy: 0.9752\n",
      "Epoch 3/5\n",
      "563/563 [==============================] - 15s 26ms/step - loss: 0.0515 - accuracy: 0.9830\n",
      "Epoch 4/5\n",
      "563/563 [==============================] - 14s 25ms/step - loss: 0.0342 - accuracy: 0.9889\n",
      "Epoch 5/5\n",
      "563/563 [==============================] - 13s 24ms/step - loss: 0.0265 - accuracy: 0.9912\n",
      "Epoch 1/5\n",
      "375/375 [==============================] - 8s 20ms/step - loss: 0.3162 - accuracy: 0.9023\n",
      "Epoch 2/5\n",
      "375/375 [==============================] - 8s 20ms/step - loss: 0.0849 - accuracy: 0.9747\n",
      "Epoch 3/5\n",
      "375/375 [==============================] - 7s 20ms/step - loss: 0.0566 - accuracy: 0.9827\n",
      "Epoch 4/5\n",
      "375/375 [==============================] - 7s 19ms/step - loss: 0.0396 - accuracy: 0.9877\n",
      "Epoch 5/5\n",
      "375/375 [==============================] - 7s 19ms/step - loss: 0.0284 - accuracy: 0.9906\n",
      "Entrenamiento 2\n",
      "Epoch 1/5\n"
     ]
    },
    {
     "name": "stderr",
     "output_type": "stream",
     "text": [
      "c:\\Users\\Johana Combita\\.conda\\envs\\tensorflow\\lib\\site-packages\\keras\\src\\engine\\training.py:3000: UserWarning: You are saving your model as an HDF5 file via `model.save()`. This file format is considered legacy. We recommend using instead the native Keras format, e.g. `model.save('my_model.keras')`.\n",
      "  saving_api.save_model(\n"
     ]
    },
    {
     "name": "stdout",
     "output_type": "stream",
     "text": [
      "938/938 [==============================] - 19s 21ms/step - loss: 0.0309 - accuracy: 0.9903\n",
      "Epoch 2/5\n",
      "938/938 [==============================] - 18s 20ms/step - loss: 0.0192 - accuracy: 0.9941\n",
      "Epoch 3/5\n",
      "938/938 [==============================] - 18s 19ms/step - loss: 0.0137 - accuracy: 0.9961\n",
      "Epoch 4/5\n",
      "938/938 [==============================] - 20s 21ms/step - loss: 0.0106 - accuracy: 0.9967\n",
      "Epoch 5/5\n",
      "938/938 [==============================] - 25s 26ms/step - loss: 0.0071 - accuracy: 0.9977\n",
      "Epoch 1/5\n",
      "563/563 [==============================] - 15s 26ms/step - loss: 0.0453 - accuracy: 0.9862\n",
      "Epoch 2/5\n",
      "563/563 [==============================] - 13s 24ms/step - loss: 0.0283 - accuracy: 0.9917\n",
      "Epoch 3/5\n",
      "563/563 [==============================] - 15s 27ms/step - loss: 0.0181 - accuracy: 0.9942\n",
      "Epoch 4/5\n",
      "563/563 [==============================] - 12s 20ms/step - loss: 0.0124 - accuracy: 0.9959\n",
      "Epoch 5/5\n",
      "563/563 [==============================] - 11s 19ms/step - loss: 0.0089 - accuracy: 0.9970\n",
      "Epoch 1/5\n",
      "375/375 [==============================] - 7s 19ms/step - loss: 0.0452 - accuracy: 0.9864\n",
      "Epoch 2/5\n",
      "375/375 [==============================] - 7s 19ms/step - loss: 0.0255 - accuracy: 0.9915\n",
      "Epoch 3/5\n",
      "375/375 [==============================] - 7s 19ms/step - loss: 0.0152 - accuracy: 0.9949\n",
      "Epoch 4/5\n",
      "375/375 [==============================] - 7s 20ms/step - loss: 0.0123 - accuracy: 0.9965\n",
      "Epoch 5/5\n",
      "375/375 [==============================] - 8s 20ms/step - loss: 0.0075 - accuracy: 0.9978\n",
      "Entrenamiento 3\n",
      "Epoch 1/5\n",
      "938/938 [==============================] - 21s 22ms/step - loss: 0.0127 - accuracy: 0.9958\n",
      "Epoch 2/5\n",
      "938/938 [==============================] - 24s 25ms/step - loss: 0.0100 - accuracy: 0.9970\n",
      "Epoch 3/5\n",
      "938/938 [==============================] - 18s 19ms/step - loss: 0.0060 - accuracy: 0.9981\n",
      "Epoch 4/5\n",
      "938/938 [==============================] - 17s 18ms/step - loss: 0.0053 - accuracy: 0.9981\n",
      "Epoch 5/5\n",
      "938/938 [==============================] - 17s 18ms/step - loss: 0.0025 - accuracy: 0.9990\n",
      "Epoch 1/5\n",
      "563/563 [==============================] - 11s 19ms/step - loss: 0.0297 - accuracy: 0.9908\n",
      "Epoch 2/5\n",
      "563/563 [==============================] - 12s 22ms/step - loss: 0.0156 - accuracy: 0.9953\n",
      "Epoch 3/5\n",
      "563/563 [==============================] - 12s 21ms/step - loss: 0.0096 - accuracy: 0.9969\n",
      "Epoch 4/5\n",
      "563/563 [==============================] - 11s 19ms/step - loss: 0.0070 - accuracy: 0.9975\n",
      "Epoch 5/5\n",
      "563/563 [==============================] - 11s 19ms/step - loss: 0.0049 - accuracy: 0.9983\n",
      "Epoch 1/5\n",
      "375/375 [==============================] - 7s 19ms/step - loss: 0.0323 - accuracy: 0.9913\n",
      "Epoch 2/5\n",
      "375/375 [==============================] - 7s 19ms/step - loss: 0.0156 - accuracy: 0.9962\n",
      "Epoch 3/5\n",
      "375/375 [==============================] - 7s 20ms/step - loss: 0.0095 - accuracy: 0.9973\n",
      "Epoch 4/5\n",
      "375/375 [==============================] - 8s 20ms/step - loss: 0.0062 - accuracy: 0.9984\n",
      "Epoch 5/5\n",
      "375/375 [==============================] - 8s 22ms/step - loss: 0.0050 - accuracy: 0.9990\n",
      "Modelo guardado\n"
     ]
    }
   ],
   "source": [
    "N = 3\n",
    "c_weights = i_weights\n",
    "\n",
    "#Entrenamiento de los clientes\n",
    "for i in range(N):\n",
    "    print(f\"Entrenamiento {i+1}\")\n",
    "    # Primer cliente\n",
    "    model.set_weights(c_weights)\n",
    "    model.fit(client1_x, client1_y, epochs=5, batch_size=32)\n",
    "    w_client1 = model.get_weights()\n",
    "\n",
    "    # Segundo cliente\n",
    "    model.set_weights(c_weights)\n",
    "    model.fit(client2_x, client2_y, epochs=5, batch_size=32)\n",
    "    w_client2 = model.get_weights()\n",
    "\n",
    "    # Tercer cliente\n",
    "    model.set_weights(c_weights)\n",
    "    model.fit(client3_x, client3_y, epochs=5, batch_size=32)\n",
    "    w_client3 = model.get_weights()\n",
    "\n",
    "    #Ponderar los pesos\n",
    "    c_weights = weighted_average([w_client1, w_client2, w_client3], [client1_size, client2_size, client3_size])\n",
    "    \n",
    "    # Asignación de los pesos promedio al modelo\n",
    "    model.set_weights(c_weights)\n",
    "    \n",
    "    #Guardar el modelo\n",
    "    model.save(f'model_federated_{i}.h5')\n",
    "\n",
    "#Guardar el modelo final\n",
    "model.save('model_federated.h5')\n",
    "print(\"Modelo guardado\")\n"
   ]
  },
  {
   "cell_type": "markdown",
   "id": "b5880c49",
   "metadata": {},
   "source": [
    "**HINT**: some functions you need to know: set_weights, get_weights. Create an auxiliary function to aggregate the weights. This function will receive the number of data for each client (so that the average is weighted), and the weights for each of them. \n",
    "\n",
    "Let $N$ be the number of clients and $n_i$ the number of data for each of these, remember that this aggregation function is given by:\n",
    "\n",
    "$$\n",
    "\\sum_{i=1}^{N} w_{i} \\cdot weights\\_client\\_i\n",
    "$$\n",
    "\n",
    "$$\n",
    "w_i = \\frac{n_i}{\\sum_{i=1}^{N}n_{i}} \\hspace{0.5cm} \\forall i \\in \\{1,...,N\\}\n",
    "$$"
   ]
  },
  {
   "cell_type": "markdown",
   "id": "6e8acb83",
   "metadata": {},
   "source": [
    "El siguiente paso es evaluar cada modelo guardado con los datos de prueba, visualizando los resultados obtenidos."
   ]
  },
  {
   "cell_type": "code",
   "execution_count": 18,
   "id": "5414de60",
   "metadata": {},
   "outputs": [
    {
     "name": "stdout",
     "output_type": "stream",
     "text": [
      "\n",
      "Evaluando model_federated_0.h5\n",
      "313/313 [==============================] - 3s 8ms/step - loss: 0.0398 - accuracy: 0.9875\n",
      "Loss: 0.0398\n",
      "Accuracy: 0.9875\n",
      "\n",
      "Evaluando model_federated_1.h5\n",
      "313/313 [==============================] - 3s 8ms/step - loss: 0.0330 - accuracy: 0.9912\n",
      "Loss: 0.0330\n",
      "Accuracy: 0.9912\n",
      "\n",
      "Evaluando model_federated_2.h5\n",
      "313/313 [==============================] - 3s 9ms/step - loss: 0.0339 - accuracy: 0.9925\n",
      "Loss: 0.0339\n",
      "Accuracy: 0.9925\n"
     ]
    }
   ],
   "source": [
    "# Evaluate each saved model (you should have model1.h5, model2.h5 and model3.h5) with the test data,\n",
    "# display and analyze the results obtained:\n",
    "\n",
    "# Cargar y evaluar cada modelo\n",
    "for i in range(N):\n",
    "    print(f\"\\nEvaluando model_federated_{i}.h5\")\n",
    "    # Cargando modelo\n",
    "    model = tf.keras.models.load_model(f'model_federated_{i}.h5')\n",
    "    \n",
    "    # Evaluar en el conjunto de prueba\n",
    "    loss, accuracy = model.evaluate(x_test, y_test, verbose=1)\n",
    "    \n",
    "    # Resultados\n",
    "    print(f\"Loss: {loss:.4f}\")\n",
    "    print(f\"Accuracy: {accuracy:.4f}\")\n",
    "    \n",
    "    "
   ]
  },
  {
   "cell_type": "markdown",
   "id": "1dc7ab2e",
   "metadata": {},
   "source": [
    "El Federated Learning es una técnica de aprendizaje automático en la que los modelos se entrenan de manera colaborativa en varios dispositivos o servidores sin necesidad de compartir los datos entre ellos. En lugar de centralizar los datos, cada cliente entrena un modelo localmente con sus propios datos. Luego, los modelos locales se sincronizan y se agregan para mejorar el modelo global (ponderado), todo esto sin exponer los datos privados de cada participante. Es importante mencionar que, la asignación de pesos en función del tamaño del conjunto de datos de cada cliente influye en la contribución de cada modelo local al modelo global. \n",
    "\n",
    "Luego, este proceso se itera en varias rondas, donde cada una comienza con los pesos globales generados por el entrenamiento anterior para que se mejore el modelo de manera integral y con la participación de cada cliente. Esta técnica es muy útil si se busca preservar la privacidad de los datos o cuando los datos están dispersos en diferentes ubicaciones, sin necesidad de transferir los datos al servidor central.\n",
    "\n",
    "A través de este ejercicio y con los datos obtenidos se logra observar que para cada modelo entrenado (ronda donde participo cada cliente), el resultado de accuracy y loss fue muy similar, se mantuvieron estables. Esto pudo ser debido a que se estableció un modelo bastante completo para la clasificación del dataset MNist, por lo cual el progreso en cada ronda no es tan significativo. Es de esperarse que el modelo mejore en cada actualización de los pesos con respecto al modelo anterior. "
   ]
  },
  {
   "cell_type": "code",
   "execution_count": null,
   "id": "76a57f2e",
   "metadata": {},
   "outputs": [],
   "source": []
  }
 ],
 "metadata": {
  "kernelspec": {
   "display_name": "tensorflow",
   "language": "python",
   "name": "python3"
  },
  "language_info": {
   "codemirror_mode": {
    "name": "ipython",
    "version": 3
   },
   "file_extension": ".py",
   "mimetype": "text/x-python",
   "name": "python",
   "nbconvert_exporter": "python",
   "pygments_lexer": "ipython3",
   "version": "3.8.20"
  }
 },
 "nbformat": 4,
 "nbformat_minor": 5
}
